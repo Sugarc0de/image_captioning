{
 "cells": [
  {
   "cell_type": "markdown",
   "metadata": {},
   "source": [
    "### Follow guides from https://github.com/jiasenlu/NeuralBabyTalk/tree/master/data to download Flickr30k dataset\n",
    "\n",
    "* training img id with their captions (already tokenized) in flickr30k/dataset_flickr30k.json \n",
    "\n",
    "* flickr30k/flickr30k_cleaned_class.json contains bounding box coordinates with their processed class (for example, child, basketball), each visual region corresponding to a word in the caption, and image_id is present "
   ]
  },
  {
   "cell_type": "code",
   "execution_count": 1,
   "metadata": {},
   "outputs": [
    {
     "name": "stdout",
     "output_type": "stream",
     "text": [
      "Requirement already up-to-date: scikit-image in /home/ec2-user/anaconda3/envs/pytorch_p36/lib/python3.6/site-packages (0.17.2)\n",
      "Requirement already satisfied, skipping upgrade: pillow!=7.1.0,!=7.1.1,>=4.3.0 in /home/ec2-user/anaconda3/envs/pytorch_p36/lib/python3.6/site-packages (from scikit-image) (7.1.2)\n",
      "Requirement already satisfied, skipping upgrade: tifffile>=2019.7.26 in /home/ec2-user/anaconda3/envs/pytorch_p36/lib/python3.6/site-packages (from scikit-image) (2020.9.3)\n",
      "Requirement already satisfied, skipping upgrade: matplotlib!=3.0.0,>=2.0.0 in /home/ec2-user/anaconda3/envs/pytorch_p36/lib/python3.6/site-packages (from scikit-image) (3.2.2)\n",
      "Requirement already satisfied, skipping upgrade: imageio>=2.3.0 in /home/ec2-user/anaconda3/envs/pytorch_p36/lib/python3.6/site-packages (from scikit-image) (2.9.0)\n",
      "Requirement already satisfied, skipping upgrade: networkx>=2.0 in /home/ec2-user/anaconda3/envs/pytorch_p36/lib/python3.6/site-packages (from scikit-image) (2.4)\n",
      "Requirement already satisfied, skipping upgrade: PyWavelets>=1.1.1 in /home/ec2-user/anaconda3/envs/pytorch_p36/lib/python3.6/site-packages (from scikit-image) (1.1.1)\n",
      "Requirement already satisfied, skipping upgrade: scipy>=1.0.1 in /home/ec2-user/anaconda3/envs/pytorch_p36/lib/python3.6/site-packages (from scikit-image) (1.5.0)\n",
      "Requirement already satisfied, skipping upgrade: numpy>=1.15.1 in /home/ec2-user/anaconda3/envs/pytorch_p36/lib/python3.6/site-packages (from scikit-image) (1.18.5)\n",
      "Requirement already satisfied, skipping upgrade: python-dateutil>=2.1 in /home/ec2-user/anaconda3/envs/pytorch_p36/lib/python3.6/site-packages (from matplotlib!=3.0.0,>=2.0.0->scikit-image) (2.8.1)\n",
      "Requirement already satisfied, skipping upgrade: cycler>=0.10 in /home/ec2-user/anaconda3/envs/pytorch_p36/lib/python3.6/site-packages (from matplotlib!=3.0.0,>=2.0.0->scikit-image) (0.10.0)\n",
      "Requirement already satisfied, skipping upgrade: pyparsing!=2.0.4,!=2.1.2,!=2.1.6,>=2.0.1 in /home/ec2-user/anaconda3/envs/pytorch_p36/lib/python3.6/site-packages (from matplotlib!=3.0.0,>=2.0.0->scikit-image) (2.4.7)\n",
      "Requirement already satisfied, skipping upgrade: kiwisolver>=1.0.1 in /home/ec2-user/anaconda3/envs/pytorch_p36/lib/python3.6/site-packages (from matplotlib!=3.0.0,>=2.0.0->scikit-image) (1.2.0)\n",
      "Requirement already satisfied, skipping upgrade: decorator>=4.3.0 in /home/ec2-user/anaconda3/envs/pytorch_p36/lib/python3.6/site-packages (from networkx>=2.0->scikit-image) (4.4.2)\n",
      "Requirement already satisfied, skipping upgrade: six>=1.5 in /home/ec2-user/anaconda3/envs/pytorch_p36/lib/python3.6/site-packages (from python-dateutil>=2.1->matplotlib!=3.0.0,>=2.0.0->scikit-image) (1.15.0)\n",
      "\u001b[33mWARNING: You are using pip version 20.1.1; however, version 20.2.2 is available.\n",
      "You should consider upgrading via the '/home/ec2-user/anaconda3/envs/pytorch_p36/bin/python -m pip install --upgrade pip' command.\u001b[0m\n"
     ]
    }
   ],
   "source": [
    "!pip install scikit-image --upgrade"
   ]
  },
  {
   "cell_type": "code",
   "execution_count": 2,
   "metadata": {},
   "outputs": [],
   "source": [
    "import os \n",
    "import json \n",
    "from scripts import data_prepro"
   ]
  },
  {
   "cell_type": "code",
   "execution_count": 3,
   "metadata": {},
   "outputs": [],
   "source": [
    "DATA_DIR = '/home/ec2-user/SageMaker/efs/200005'\n",
    "karpathy_json_path = os.path.join(DATA_DIR, 'flickr30k/dataset_flickr30k.json')\n",
    "image_folder = os.path.join(DATA_DIR, 'flickr30k-images')\n",
    "captions_per_image = 5\n",
    "output_folder = os.path.join(DATA_DIR, 'processed_flickr30k')\n",
    "min_word_freq = 5\n",
    "max_len = 16"
   ]
  },
  {
   "cell_type": "code",
   "execution_count": 4,
   "metadata": {},
   "outputs": [],
   "source": [
    "%load_ext autoreload\n",
    "%autoreload 2"
   ]
  },
  {
   "cell_type": "code",
   "execution_count": 5,
   "metadata": {},
   "outputs": [
    {
     "name": "stderr",
     "output_type": "stream",
     "text": [
      "  0%|          | 2/28962 [00:00<25:55, 18.62it/s]"
     ]
    },
    {
     "name": "stdout",
     "output_type": "stream",
     "text": [
      "\n",
      "Reading TRAIN images and captions, storing a file...\n",
      "\n",
      "max: 254.0 and min: 0.0\n",
      "max: 241.9627075195324 and min: 10.347778320312637\n",
      "max: 254.0 and min: 0.0\n",
      "max: 252.90039062499997 and min: 0.17897033691454234\n"
     ]
    },
    {
     "name": "stderr",
     "output_type": "stream",
     "text": [
      "  0%|          | 8/28962 [00:00<22:08, 21.80it/s]"
     ]
    },
    {
     "name": "stdout",
     "output_type": "stream",
     "text": [
      "max: 255.0 and min: 0.0\n",
      "max: 253.17539978027338 and min: 0.0\n",
      "max: 253.1777343750002 and min: 0.0\n",
      "max: 255.0 and min: 1.3350524902410714\n",
      "max: 253.24685668945318 and min: 0.0\n",
      "max: 255.0 and min: 0.3867187499998437\n"
     ]
    },
    {
     "name": "stderr",
     "output_type": "stream",
     "text": [
      "  0%|          | 14/28962 [00:00<20:08, 23.96it/s]"
     ]
    },
    {
     "name": "stdout",
     "output_type": "stream",
     "text": [
      "max: 255.0 and min: 0.0\n",
      "max: 255.0 and min: 0.0\n",
      "max: 255.0 and min: 7.076171875\n",
      "max: 254.0 and min: 0.1159973144528866\n",
      "max: 252.1760864257814 and min: 0.0234375\n",
      "max: 255.0 and min: 0.0035247802734374996\n"
     ]
    },
    {
     "name": "stderr",
     "output_type": "stream",
     "text": [
      "  0%|          | 20/28962 [00:00<19:20, 24.94it/s]"
     ]
    },
    {
     "name": "stdout",
     "output_type": "stream",
     "text": [
      "max: 255.0 and min: 0.0\n",
      "max: 254.0 and min: 0.0\n",
      "max: 254.0 and min: 0.0\n",
      "max: 254.0 and min: 0.0\n",
      "max: 249.84983825683582 and min: 0.0\n"
     ]
    },
    {
     "name": "stderr",
     "output_type": "stream",
     "text": [
      "100%|██████████| 28962/28962 [19:21<00:00, 24.93it/s] \n",
      "  0%|          | 3/1012 [00:00<00:41, 24.18it/s]"
     ]
    },
    {
     "name": "stdout",
     "output_type": "stream",
     "text": [
      "\n",
      "Reading VAL images and captions, storing a file...\n",
      "\n",
      "max: 252.71414184570358 and min: 0.18067932128930392\n",
      "max: 252.9573974609375 and min: 0.0\n",
      "max: 252.5274200439452 and min: 0.0\n",
      "max: 202.80538940429705 and min: 0.0\n",
      "max: 250.76515197753906 and min: 0.0\n"
     ]
    },
    {
     "name": "stderr",
     "output_type": "stream",
     "text": [
      "  1%|          | 9/1012 [00:00<00:39, 25.22it/s]"
     ]
    },
    {
     "name": "stdout",
     "output_type": "stream",
     "text": [
      "max: 254.0 and min: 0.0\n",
      "max: 251.99414062499994 and min: 1.0390319824219671\n",
      "max: 254.0 and min: 0.0\n",
      "max: 253.69140625000006 and min: 0.4381103515625\n",
      "max: 252.9699554443359 and min: 0.18504333496092784\n"
     ]
    },
    {
     "name": "stderr",
     "output_type": "stream",
     "text": [
      "  1%|▏         | 15/1012 [00:00<00:39, 25.37it/s]"
     ]
    },
    {
     "name": "stdout",
     "output_type": "stream",
     "text": [
      "max: 253.91714477539085 and min: 0.0\n",
      "max: 254.9311065673828 and min: 0.0\n",
      "max: 252.23431396484372 and min: 1.0186614990234375\n",
      "max: 254.0 and min: 0.0\n",
      "max: 252.9437561035157 and min: 0.0\n",
      "max: 252.97644042968759 and min: 0.720947265625032\n"
     ]
    },
    {
     "name": "stderr",
     "output_type": "stream",
     "text": [
      "  2%|▏         | 21/1012 [00:00<00:38, 25.82it/s]"
     ]
    },
    {
     "name": "stdout",
     "output_type": "stream",
     "text": [
      "max: 253.03579711914062 and min: 1.292846679687545\n",
      "max: 254.0 and min: 0.03585815429689588\n",
      "max: 255.0 and min: 1.410125732422321\n",
      "max: 254.0 and min: 0.0\n",
      "max: 254.986328125 and min: 0.0\n"
     ]
    },
    {
     "name": "stderr",
     "output_type": "stream",
     "text": [
      "100%|██████████| 1012/1012 [00:42<00:00, 23.61it/s]\n"
     ]
    },
    {
     "name": "stdout",
     "output_type": "stream",
     "text": [
      "split is TEST\n",
      "None\n"
     ]
    }
   ],
   "source": [
    "print(data_prepro.create_input_files(karpathy_json_path, image_folder,\n",
    "                        captions_per_image, min_word_freq, output_folder, max_len))"
   ]
  }
 ],
 "metadata": {
  "instance_type": "ml.t3.medium",
  "kernelspec": {
   "display_name": "conda_pytorch_p36",
   "language": "python",
   "name": "conda_pytorch_p36"
  },
  "language_info": {
   "codemirror_mode": {
    "name": "ipython",
    "version": 3
   },
   "file_extension": ".py",
   "mimetype": "text/x-python",
   "name": "python",
   "nbconvert_exporter": "python",
   "pygments_lexer": "ipython3",
   "version": "3.6.10"
  }
 },
 "nbformat": 4,
 "nbformat_minor": 4
}
