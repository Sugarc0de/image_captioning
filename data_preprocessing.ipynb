{
 "cells": [
  {
   "cell_type": "markdown",
   "metadata": {},
   "source": [
    "### Follow guides from https://github.com/jiasenlu/NeuralBabyTalk/tree/master/data"
   ]
  },
  {
   "cell_type": "code",
   "execution_count": 3,
   "metadata": {},
   "outputs": [
    {
     "name": "stdout",
     "output_type": "stream",
     "text": [
      "--2020-08-21 03:53:04--  https://ucb0262d0dd5250030bed2e72137.dl.dropboxusercontent.com/cd/0/get/A92CYRuskkTfj9Ue2mOeClQGvwJAW7ImKoMZGXOltpFfoTUgRu_HKBHDjSgbBlXPyNiTn2jVhKUkgczrkxPnJKGd7J7EQoTGxf8wG6KznLqibA/file?_download_id=2903871679632099621283971680287862285225720446766323210575785119714\n"
     ]
    }
   ],
   "source": [
    "!wget https://ucb0262d0dd5250030bed2e72137.dl.dropboxusercontent.com/cd/0/get/A92CYRuskkTfj9Ue2mOeClQGvwJAW7ImKoMZGXOltpFfoTUgRu_HKBHDjSgbBlXPyNiTn2jVhKUkgczrkxPnJKGd7J7EQoTGxf8wG6KznLqibA/file?_download_id=2903871679632099621283971680287862285225720446766323210575785119714&_notify_domain=www.dropbox.com&dl=1"
   ]
  },
  {
   "cell_type": "code",
   "execution_count": 2,
   "metadata": {},
   "outputs": [
    {
     "name": "stdout",
     "output_type": "stream",
     "text": [
      "--2020-08-21 03:52:19--  https://ucb0262d0dd5250030bed2e72137.dl.dropboxusercontent.com/cd/0/get/A92CYRuskkTfj9Ue2mOeClQGvwJAW7ImKoMZGXOltpFfoTUgRu_HKBHDjSgbBlXPyNiTn2jVhKUkgczrkxPnJKGd7J7EQoTGxf8wG6KznLqibA/file?_download_id=5066920068061986363681934124671174489443102694876560845693429507\n"
     ]
    }
   ],
   "source": [
    "!wget https://ucb0262d0dd5250030bed2e72137.dl.dropboxusercontent.com/cd/0/get/A92CYRuskkTfj9Ue2mOeClQGvwJAW7ImKoMZGXOltpFfoTUgRu_HKBHDjSgbBlXPyNiTn2jVhKUkgczrkxPnJKGd7J7EQoTGxf8wG6KznLqibA/file?_download_id=5066920068061986363681934124671174489443102694876560845693429507&_notify_domain=www.dropbox.com&dl=1"
   ]
  },
  {
   "cell_type": "markdown",
   "metadata": {},
   "source": [
    "### Visually inspect the image with the captions \n",
    "\n",
    "* training img id with their captions (already tokenized) in flickr30k/dataset_flickr30k.json \n",
    "\n",
    "* flickr30k/flickr30k_cleaned_class.json contains bounding box coordinates with their processed class (for example, child, basketball), each visual region corresponding to a word in the caption, and image_id is present "
   ]
  },
  {
   "cell_type": "code",
   "execution_count": null,
   "metadata": {},
   "outputs": [],
   "source": []
  }
 ],
 "metadata": {
  "instance_type": "ml.t3.medium",
  "kernelspec": {
   "display_name": "Python 3 (PyTorch CPU Optimized)",
   "language": "python",
   "name": "python3__SAGEMAKER_INTERNAL__arn:aws:sagemaker:us-east-2:429704687514:image/pytorch-1.4-cpu-py36"
  },
  "language_info": {
   "codemirror_mode": {
    "name": "ipython",
    "version": 3
   },
   "file_extension": ".py",
   "mimetype": "text/x-python",
   "name": "python",
   "nbconvert_exporter": "python",
   "pygments_lexer": "ipython3",
   "version": "3.6.6"
  }
 },
 "nbformat": 4,
 "nbformat_minor": 4
}
